{
 "cells": [
  {
   "cell_type": "code",
   "execution_count": 1,
   "metadata": {},
   "outputs": [],
   "source": [
    "import json\n",
    "import matplotlib.pyplot as plt\n",
    "import random\n",
    "import requests\n",
    "import time\n",
    "import datetime\n",
    "import uuid\n",
    "import "
   ]
  },
  {
   "cell_type": "code",
   "execution_count": 2,
   "metadata": {},
   "outputs": [],
   "source": [
    "key_var_name = 'PERSONALIZER_KEY'\n",
    "if not key_var_name in os.environ:\n",
    "    raise Exception('Please set/export the environment variable: {}'.format(key_var_name))\n",
    "personalizer_key = os.environ[key_var_name]\n",
    "\n",
    "# Replace <your-resource-name>: https://<your-resource-name>.api.cognitive.microsoft.com/\n",
    "endpoint_var_name = 'PERSONALIZER_ENDPOINT'\n",
    "if not endpoint_var_name in os.environ:\n",
    "    raise Exception('Please set/export the environment variable: {}'.format(endpoint_var_name))\n",
    "personalizer_endpoint = os.environ[endpoint_var_name]"
   ]
  },
  {
   "cell_type": "code",
   "execution_count": 18,
   "metadata": {},
   "outputs": [],
   "source": [
    "# Print out current datetime\n",
    "def currentDateTime():\n",
    "    currentDT = datetime.datetime.now()\n",
    "    #print (str(currentDT))"
   ]
  },
  {
   "cell_type": "code",
   "execution_count": 19,
   "metadata": {},
   "outputs": [],
   "source": [
    "# ititialize variable for model's last modified date\n",
    "modelLastModified = \"\""
   ]
  },
  {
   "cell_type": "code",
   "execution_count": 20,
   "metadata": {},
   "outputs": [],
   "source": [
    "def get_last_updated(currentModifiedDate):\n",
    "\n",
    "    print('-----checking model')\n",
    "\n",
    "    # get model properties\n",
    "    response = requests.get(personalization_model_properties_url, headers = headers, params = None)\n",
    "\n",
    "    print(response)\n",
    "    print(response.json())\n",
    "\n",
    "    # get lastModifiedTime\n",
    "    lastModifiedTime = json.dumps(response.json()[\"lastModifiedTime\"])\n",
    "\n",
    "    if (currentModifiedDate != lastModifiedTime):\n",
    "        currentModifiedDate = lastModifiedTime\n",
    "        print(f'-----model updated: {lastModifiedTime}')"
   ]
  },
  {
   "cell_type": "code",
   "execution_count": 21,
   "metadata": {},
   "outputs": [],
   "source": [
    "def get_service_settings():\n",
    "\n",
    "    print('-----checking service settings')\n",
    "\n",
    "    # get learning policy\n",
    "    response = requests.get(personalization_model_policy_url, headers = headers, params = None)\n",
    "\n",
    "    print(response)\n",
    "    print(response.json())\n",
    "\n",
    "    # get service settings\n",
    "    response = requests.get(personalization_service_configuration_url, headers = headers, params = None)\n",
    "\n",
    "    print(response)\n",
    "    print(response.json())"
   ]
  },
  {
   "cell_type": "code",
   "execution_count": 22,
   "metadata": {},
   "outputs": [
    {
     "name": "stdout",
     "output_type": "stream",
     "text": [
      "-----checking model\n",
      "<Response [200]>\n",
      "{'creationTime': '2020-02-24T22:32:54+00:00', 'lastModifiedTime': '2020-02-25T04:12:57+00:00'}\n",
      "-----model updated: \"2020-02-25T04:12:57+00:00\"\n",
      "-----checking service settings\n",
      "<Response [200]>\n",
      "{'name': '7b90cd7609c345bca9e27db52868278e', 'arguments': '--cb_explore_adf --epsilon 0.2 --dsjson --cb_type mtr -q Fj -l 10 --power_t 0'}\n",
      "<Response [200]>\n",
      "{'rewardWaitTime': 'PT15S', 'defaultReward': 0.0, 'rewardAggregation': 'sum', 'explorationPercentage': 0.2, 'modelExportFrequency': 'PT15S', 'logRetentionDays': -1}\n",
      "User count 4\n",
      "Coffee count 4\n"
     ]
    }
   ],
   "source": [
    "# build URLs\n",
    "personalization_rank_url = personalization_base_url + \"personalizer/v1.0/rank\"\n",
    "personalization_reward_url = personalization_base_url + \"personalizer/v1.0/events/\" #add \"{eventId}/reward\"\n",
    "personalization_model_properties_url = personalization_base_url + \"personalizer/v1.0/model/properties\"\n",
    "personalization_model_policy_url = personalization_base_url + \"personalizer/v1.0/configurations/policy\"\n",
    "personalization_service_configuration_url = personalization_base_url + \"personalizer/v1.0/configurations/service\"\n",
    "\n",
    "headers = {'Ocp-Apim-Subscription-Key' : resource_key, 'Content-Type': 'application/json'}\n",
    "\n",
    "# context\n",
    "users = \"users.json\"\n",
    "\n",
    "# action features\n",
    "coffee = \"coffee.json\"\n",
    "\n",
    "# empty JSON for Rank request\n",
    "requestpath = \"example-rankrequest.json\"\n",
    "\n",
    "# initialize random\n",
    "random.seed(time.time())\n",
    "\n",
    "userpref = None\n",
    "rankactionsjsonobj = None\n",
    "actionfeaturesobj = None\n",
    "\n",
    "with open(users) as handle:\n",
    "    userpref = json.loads(handle.read())\n",
    "\n",
    "with open(coffee) as handle:\n",
    "    actionfeaturesobj = json.loads(handle.read())\n",
    "\n",
    "with open(requestpath) as handle:\n",
    "    rankactionsjsonobj = json.loads(handle.read())\n",
    "\n",
    "get_last_updated(modelLastModified)\n",
    "get_service_settings()\n",
    "\n",
    "print(f'User count {len(userpref)}')\n",
    "print(f'Coffee count {len(actionfeaturesobj)}')"
   ]
  },
  {
   "cell_type": "code",
   "execution_count": 23,
   "metadata": {},
   "outputs": [],
   "source": [
    "def add_event_id(rankjsonobj):\n",
    "    eventid = uuid.uuid4().hex\n",
    "    rankjsonobj[\"eventId\"] = eventid\n",
    "    return eventid"
   ]
  },
  {
   "cell_type": "code",
   "execution_count": 24,
   "metadata": {},
   "outputs": [],
   "source": [
    "def add_random_user_and_contextfeatures(namesoption, weatheropt, timeofdayopt, rankjsonobj):\n",
    "    name = namesoption[random.randint(0,3)]\n",
    "    weather = weatheropt[random.randint(0,2)]\n",
    "    timeofday = timeofdayopt[random.randint(0,2)]\n",
    "    rankjsonobj['contextFeatures'] = [{'timeofday': timeofday, 'weather': weather, 'name': name}]\n",
    "    return [name, weather, timeofday]"
   ]
  },
  {
   "cell_type": "code",
   "execution_count": 25,
   "metadata": {},
   "outputs": [],
   "source": [
    "def add_action_features(rankjsonobj):\n",
    "    rankjsonobj[\"actions\"] = actionfeaturesobj"
   ]
  },
  {
   "cell_type": "code",
   "execution_count": 26,
   "metadata": {},
   "outputs": [],
   "source": [
    "def get_reward_from_simulated_data(name, weather, timeofday, prediction):\n",
    "    if(userpref[name][weather][timeofday] == str(prediction)):\n",
    "        return 1\n",
    "    return 0"
   ]
  },
  {
   "cell_type": "code",
   "execution_count": 29,
   "metadata": {},
   "outputs": [],
   "source": [
    "def iterations(n, modelCheck, jsonFormat):\n",
    "\n",
    "    i = 1\n",
    "\n",
    "    # default reward value - assumes failed prediction\n",
    "    reward = 0\n",
    "\n",
    "    # Print out dateTime\n",
    "    currentDateTime()\n",
    "\n",
    "    # collect results to aggregate in graph\n",
    "    total = 0\n",
    "    rewards = []\n",
    "    count = []\n",
    "\n",
    "    # default list of user, weather, time of day\n",
    "    namesopt = ['Alice', 'Bob', 'Cathy', 'Dave']\n",
    "    weatheropt = ['Sunny', 'Rainy', 'Snowy']\n",
    "    timeofdayopt = ['Morning', 'Afternoon', 'Evening']\n",
    "\n",
    "\n",
    "    while(i <= n):\n",
    "\n",
    "        # create unique id to associate with an event\n",
    "        eventid = add_event_id(jsonFormat)\n",
    "\n",
    "        # generate a random sample\n",
    "        [name, weather, timeofday] = add_random_user_and_contextfeatures(namesopt, weatheropt, timeofdayopt, jsonFormat)\n",
    "\n",
    "        # add action features to rank\n",
    "        add_action_features(jsonFormat)\n",
    "\n",
    "        # show JSON to send to Rank\n",
    "        #print('To: ', jsonFormat)\n",
    "\n",
    "        # choose an action - get prediction from Personalizer\n",
    "        response = requests.post(personalization_rank_url, headers = headers, params = None, json = jsonFormat)\n",
    "\n",
    "        # show Rank prediction\n",
    "        #print ('From: ',response.json())\n",
    "\n",
    "        # compare personalization service recommendation with the simulated data to generate a reward value\n",
    "        prediction = json.dumps(response.json()[\"rewardActionId\"]).replace('\"','')\n",
    "        reward = get_reward_from_simulated_data(name, weather, timeofday, prediction)\n",
    "\n",
    "        # show result for iteration\n",
    "        print(f'   {i} {currentDateTime()} {name} {weather} {timeofday} {prediction} {reward}                                                 ', end='\\r')\n",
    "\n",
    "        # send the reward to the service\n",
    "        response = requests.post(personalization_reward_url + eventid + \"/reward\", headers = headers, params= None, json = { \"value\" : reward })\n",
    "\n",
    "        # for every N rank requests, compute total correct  total\n",
    "        total =  total + reward\n",
    "\n",
    "        # every N iteration, get last updated model date and time\n",
    "        if(i % modelCheck == 0):\n",
    "\n",
    "            print(\"**** 10% of loop found\")\n",
    "\n",
    "            get_last_updated(modelLastModified)\n",
    "\n",
    "        # aggregate so chart is easier to read\n",
    "        if(i % 10 == 0):\n",
    "            rewards.append( total)\n",
    "            count.append(i)\n",
    "            total = 0\n",
    "\n",
    "        i = i + 1\n",
    "\n",
    "    # Print out dateTime\n",
    "    currentDateTime()\n",
    "\n",
    "    return [count, rewards]"
   ]
  },
  {
   "cell_type": "code",
   "execution_count": 30,
   "metadata": {},
   "outputs": [
    {
     "name": "stdout",
     "output_type": "stream",
     "text": [
      "**** 10% of loop foundwy Afternoon Iced mocha 1                                                 \n",
      "-----checking model\n",
      "<Response [200]>\n",
      "{'creationTime': '2020-02-24T22:32:54+00:00', 'lastModifiedTime': '2020-02-25T04:15:08+00:00'}\n",
      "-----model updated: \"2020-02-25T04:15:08+00:00\"\n",
      "**** 10% of loop foundny Afternoon Cold brew 1                                                  \n",
      "-----checking model\n",
      "<Response [200]>\n",
      "{'creationTime': '2020-02-24T22:32:54+00:00', 'lastModifiedTime': '2020-02-25T04:17:28+00:00'}\n",
      "-----model updated: \"2020-02-25T04:17:28+00:00\"\n",
      "**** 10% of loop foundy Afternoon Latte 1                                                       \n",
      "-----checking model\n",
      "<Response [200]>\n",
      "{'creationTime': '2020-02-24T22:32:54+00:00', 'lastModifiedTime': '2020-02-25T04:19:29+00:00'}\n",
      "-----model updated: \"2020-02-25T04:19:29+00:00\"\n",
      "**** 10% of loop found Afternoon Cold brew 0                                                    \n",
      "-----checking model\n",
      "<Response [200]>\n",
      "{'creationTime': '2020-02-24T22:32:54+00:00', 'lastModifiedTime': '2020-02-25T04:21:29+00:00'}\n",
      "-----model updated: \"2020-02-25T04:21:29+00:00\"\n",
      "**** 10% of loop foundny Morning Cold brew 0                                                    \n",
      "-----checking model\n",
      "<Response [200]>\n",
      "{'creationTime': '2020-02-24T22:32:54+00:00', 'lastModifiedTime': '2020-02-25T04:23:44+00:00'}\n",
      "-----model updated: \"2020-02-25T04:23:44+00:00\"\n",
      "**** 10% of loop foundwy Evening Cappucino 1                                                    \n",
      "-----checking model\n",
      "<Response [200]>\n",
      "{'creationTime': '2020-02-24T22:32:54+00:00', 'lastModifiedTime': '2020-02-25T04:25:45+00:00'}\n",
      "-----model updated: \"2020-02-25T04:25:45+00:00\"\n",
      "**** 10% of loop foundwy Evening Latte 0                                                        \n",
      "-----checking model\n",
      "<Response [200]>\n",
      "{'creationTime': '2020-02-24T22:32:54+00:00', 'lastModifiedTime': '2020-02-25T04:27:45+00:00'}\n",
      "-----model updated: \"2020-02-25T04:27:45+00:00\"\n",
      "**** 10% of loop foundy Evening Cappucino 0                                                     \n",
      "-----checking model\n",
      "<Response [200]>\n",
      "{'creationTime': '2020-02-24T22:32:54+00:00', 'lastModifiedTime': '2020-02-25T04:30:05+00:00'}\n",
      "-----model updated: \"2020-02-25T04:30:05+00:00\"\n",
      "**** 10% of loop foundy Morning Latte 1                                                         \n",
      "-----checking model\n",
      "<Response [200]>\n",
      "{'creationTime': '2020-02-24T22:32:54+00:00', 'lastModifiedTime': '2020-02-25T04:32:05+00:00'}\n",
      "-----model updated: \"2020-02-25T04:32:05+00:00\"\n",
      "**** 10% of loop foundy Afternoon Iced mocha 1                                                  \n",
      "-----checking model\n",
      "<Response [200]>\n",
      "{'creationTime': '2020-02-24T22:32:54+00:00', 'lastModifiedTime': '2020-02-25T04:34:06+00:00'}\n",
      "-----model updated: \"2020-02-25T04:34:06+00:00\"\n"
     ]
    }
   ],
   "source": [
    "# max iterations\n",
    "num_requests = 10000\n",
    "\n",
    "# check last mod date N% of time - currently 10%\n",
    "lastModCheck = int(num_requests * .10)\n",
    "\n",
    "jsonTemplate = rankactionsjsonobj\n",
    "\n",
    "# main iterations\n",
    "[count, rewards] = iterations(num_requests, lastModCheck, jsonTemplate)"
   ]
  },
  {
   "cell_type": "code",
   "execution_count": 33,
   "metadata": {},
   "outputs": [],
   "source": [
    "def createChart(x, y):\n",
    "    plt.plot(x, y)\n",
    "    plt.xlabel(\"Batch of rank events\")\n",
    "    plt.ylabel(\"Correct recommendations per batch\")\n",
    "    plt.show()"
   ]
  },
  {
   "cell_type": "code",
   "execution_count": 34,
   "metadata": {},
   "outputs": [
    {
     "data": {
      "image/png": "[encoded data removed]",
      "text/plain": [
       "<Figure size 432x288 with 1 Axes>"
      ]
     },
     "metadata": {
      "needs_background": "light"
     },
     "output_type": "display_data"
    }
   ],
   "source": [
    "createChart(count,rewards)"
   ]
  },
  {
   "cell_type": "code",
   "execution_count": 39,
   "metadata": {},
   "outputs": [
    {
     "name": "stdout",
     "output_type": "stream",
     "text": [
      "-----checking service settings\n",
      "<Response [200]>\n",
      "{'name': '7b90cd7609c345bca9e27db52868278e', 'arguments': '--cb_explore_adf --epsilon 0.2 --dsjson --cb_type mtr -q Fj -q Fi -l 1 --power_t 0'}\n",
      "<Response [200]>\n",
      "{'rewardWaitTime': 'PT5M', 'defaultReward': 0.0, 'rewardAggregation': 'sum', 'explorationPercentage': 0.2, 'modelExportFrequency': 'PT5M', 'logRetentionDays': -1}\n"
     ]
    }
   ],
   "source": [
    "#Verify new learning policy and times\n",
    "get_service_settings()"
   ]
  },
  {
   "cell_type": "code",
   "execution_count": 41,
   "metadata": {},
   "outputs": [
    {
     "ename": "KeyError",
     "evalue": "'rewardActionId'",
     "output_type": "error",
     "traceback": [
      "\u001b[0;31m---------------------------------------------------------------------------\u001b[0m",
      "\u001b[0;31mKeyError\u001b[0m                                  Traceback (most recent call last)",
      "\u001b[0;32m<ipython-input-41-e54e321b5db2>\u001b[0m in \u001b[0;36m<module>\u001b[0;34m\u001b[0m\n\u001b[1;32m      8\u001b[0m \u001b[0;34m\u001b[0m\u001b[0m\n\u001b[1;32m      9\u001b[0m \u001b[0;31m# main iterations\u001b[0m\u001b[0;34m\u001b[0m\u001b[0;34m\u001b[0m\u001b[0;34m\u001b[0m\u001b[0m\n\u001b[0;32m---> 10\u001b[0;31m \u001b[0;34m[\u001b[0m\u001b[0mcount2\u001b[0m\u001b[0;34m,\u001b[0m \u001b[0mrewards2\u001b[0m\u001b[0;34m]\u001b[0m \u001b[0;34m=\u001b[0m \u001b[0miterations\u001b[0m\u001b[0;34m(\u001b[0m\u001b[0mnum_requests\u001b[0m\u001b[0;34m,\u001b[0m \u001b[0mlastModCheck2\u001b[0m\u001b[0;34m,\u001b[0m \u001b[0mjsonTemplate2\u001b[0m\u001b[0;34m)\u001b[0m\u001b[0;34m\u001b[0m\u001b[0;34m\u001b[0m\u001b[0m\n\u001b[0m",
      "\u001b[0;32m<ipython-input-29-06cb0da6cf52>\u001b[0m in \u001b[0;36miterations\u001b[0;34m(n, modelCheck, jsonFormat)\u001b[0m\n\u001b[1;32m     41\u001b[0m \u001b[0;34m\u001b[0m\u001b[0m\n\u001b[1;32m     42\u001b[0m         \u001b[0;31m# compare personalization service recommendation with the simulated data to generate a reward value\u001b[0m\u001b[0;34m\u001b[0m\u001b[0;34m\u001b[0m\u001b[0;34m\u001b[0m\u001b[0m\n\u001b[0;32m---> 43\u001b[0;31m         \u001b[0mprediction\u001b[0m \u001b[0;34m=\u001b[0m \u001b[0mjson\u001b[0m\u001b[0;34m.\u001b[0m\u001b[0mdumps\u001b[0m\u001b[0;34m(\u001b[0m\u001b[0mresponse\u001b[0m\u001b[0;34m.\u001b[0m\u001b[0mjson\u001b[0m\u001b[0;34m(\u001b[0m\u001b[0;34m)\u001b[0m\u001b[0;34m[\u001b[0m\u001b[0;34m\"rewardActionId\"\u001b[0m\u001b[0;34m]\u001b[0m\u001b[0;34m)\u001b[0m\u001b[0;34m.\u001b[0m\u001b[0mreplace\u001b[0m\u001b[0;34m(\u001b[0m\u001b[0;34m'\"'\u001b[0m\u001b[0;34m,\u001b[0m\u001b[0;34m''\u001b[0m\u001b[0;34m)\u001b[0m\u001b[0;34m\u001b[0m\u001b[0;34m\u001b[0m\u001b[0m\n\u001b[0m\u001b[1;32m     44\u001b[0m         \u001b[0mreward\u001b[0m \u001b[0;34m=\u001b[0m \u001b[0mget_reward_from_simulated_data\u001b[0m\u001b[0;34m(\u001b[0m\u001b[0mname\u001b[0m\u001b[0;34m,\u001b[0m \u001b[0mweather\u001b[0m\u001b[0;34m,\u001b[0m \u001b[0mtimeofday\u001b[0m\u001b[0;34m,\u001b[0m \u001b[0mprediction\u001b[0m\u001b[0;34m)\u001b[0m\u001b[0;34m\u001b[0m\u001b[0;34m\u001b[0m\u001b[0m\n\u001b[1;32m     45\u001b[0m \u001b[0;34m\u001b[0m\u001b[0m\n",
      "\u001b[0;31mKeyError\u001b[0m: 'rewardActionId'"
     ]
    }
   ],
   "source": [
    "# max iterations\n",
    "num_requests = 2000\n",
    "\n",
    "# check last mod date N% of time - currently 10%\n",
    "lastModCheck2 = int(num_requests * .10)\n",
    "\n",
    "jsonTemplate2 = rankactionsjsonobj\n",
    "\n",
    "# main iterations\n",
    "[count2, rewards2] = iterations(num_requests, lastModCheck2, jsonTemplate2)"
   ]
  },
  {
   "cell_type": "code",
   "execution_count": null,
   "metadata": {},
   "outputs": [],
   "source": [
    "createChart(count2,rewards2)"
   ]
  },
  {
   "cell_type": "code",
   "execution_count": null,
   "metadata": {},
   "outputs": [],
   "source": []
  }
 ],
 "metadata": {
  "kernelspec": {
   "display_name": "Python 3",
   "language": "python",
   "name": "python3"
  },
  "language_info": {
   "codemirror_mode": {
    "name": "ipython",
    "version": 3
   },
   "file_extension": ".py",
   "mimetype": "text/x-python",
   "name": "python",
   "nbconvert_exporter": "python",
   "pygments_lexer": "ipython3",
   "version": "3.7.4"
  }
 },
 "nbformat": 4,
 "nbformat_minor": 4
}
